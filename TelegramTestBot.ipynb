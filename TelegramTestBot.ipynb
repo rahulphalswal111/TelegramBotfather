{
  "cells": [
    {
      "cell_type": "code",
      "execution_count": null,
      "metadata": {
        "colab": {
          "base_uri": "https://localhost:8080/"
        },
        "id": "_P2T6cZIqBfg",
        "outputId": "965b6041-cf28-4e40-9e06-ce47a2f13fdb"
      },
      "outputs": [
        {
          "name": "stdout",
          "output_type": "stream",
          "text": [
            "Requirement already satisfied: python-telegram-bot in /usr/local/lib/python3.10/dist-packages (20.8)\n",
            "Requirement already satisfied: httpx~=0.26.0 in /usr/local/lib/python3.10/dist-packages (from python-telegram-bot) (0.26.0)\n",
            "Requirement already satisfied: anyio in /usr/local/lib/python3.10/dist-packages (from httpx~=0.26.0->python-telegram-bot) (3.7.1)\n",
            "Requirement already satisfied: certifi in /usr/local/lib/python3.10/dist-packages (from httpx~=0.26.0->python-telegram-bot) (2024.2.2)\n",
            "Requirement already satisfied: httpcore==1.* in /usr/local/lib/python3.10/dist-packages (from httpx~=0.26.0->python-telegram-bot) (1.0.4)\n",
            "Requirement already satisfied: idna in /usr/local/lib/python3.10/dist-packages (from httpx~=0.26.0->python-telegram-bot) (3.6)\n",
            "Requirement already satisfied: sniffio in /usr/local/lib/python3.10/dist-packages (from httpx~=0.26.0->python-telegram-bot) (1.3.0)\n",
            "Requirement already satisfied: h11<0.15,>=0.13 in /usr/local/lib/python3.10/dist-packages (from httpcore==1.*->httpx~=0.26.0->python-telegram-bot) (0.14.0)\n",
            "Requirement already satisfied: exceptiongroup in /usr/local/lib/python3.10/dist-packages (from anyio->httpx~=0.26.0->python-telegram-bot) (1.2.0)\n"
          ]
        }
      ],
      "source": [
        "#install the required libraries\n",
        "!pip install --upgrade python-telegram-bot"
      ]
    },
    {
      "cell_type": "code",
      "execution_count": null,
      "metadata": {
        "id": "ApWyCYdcrxoN"
      },
      "outputs": [],
      "source": [
        "from typing import Final\n",
        "from telegram import Update\n",
        "import asyncio\n",
        "from telegram.ext import Application, ApplicationBuilder, Updater, CommandHandler, MessageHandler, filters, ContextTypes"
      ]
    },
    {
      "cell_type": "code",
      "execution_count": null,
      "metadata": {
        "id": "YfLFpx-Wughn"
      },
      "outputs": [],
      "source": []
    },
    {
      "cell_type": "code",
      "execution_count": null,
      "metadata": {
        "id": "jEkm4kQbrQ8f"
      },
      "outputs": [],
      "source": [
        "TOKEN = \"7101471240:AAGrpgbfhRy52p4PM1KweTR184tWAQVnXnw\""
      ]
    },
    {
      "cell_type": "code",
      "execution_count": null,
      "metadata": {
        "id": "UO03eZ3rrnwJ"
      },
      "outputs": [],
      "source": [
        "BOT_USER_NAME : Final = \"@BBBlackPantherBot\""
      ]
    },
    {
      "cell_type": "markdown",
      "metadata": {
        "id": "MNmQsRjtvwhS"
      },
      "source": [
        "Commands"
      ]
    },
    {
      "cell_type": "code",
      "execution_count": null,
      "metadata": {
        "id": "6FKCMCLRrryk"
      },
      "outputs": [],
      "source": [
        "async def start_command(update: Update, context: ContextTypes.DEFAULT_TYPE):\n",
        "  await update.message.reply_text(\"Hello! thanks for chatting with me. This is black panther\")"
      ]
    },
    {
      "cell_type": "code",
      "execution_count": null,
      "metadata": {
        "id": "Mv2BGC9evOZf"
      },
      "outputs": [],
      "source": [
        "async def help_command(update: Update, context: ContextTypes.DEFAULT_TYPE):\n",
        "  await update.message.reply_text(\"Hello! I'm black panther. I browser anonymously and send back the response\")"
      ]
    },
    {
      "cell_type": "code",
      "execution_count": null,
      "metadata": {
        "id": "MMZFegxfvV0F"
      },
      "outputs": [],
      "source": [
        "async def custom_command(update: Update, context: ContextTypes.DEFAULT_TYPE):\n",
        "  await update.message.reply_text(\"Hello! This is a custom command\")"
      ]
    },
    {
      "cell_type": "markdown",
      "metadata": {
        "id": "cPzdz6dpvzjc"
      },
      "source": [
        "Responses"
      ]
    },
    {
      "cell_type": "code",
      "execution_count": null,
      "metadata": {
        "id": "e19MnVPEvrdm"
      },
      "outputs": [],
      "source": [
        "def handle_response(text: str) -> str:\n",
        "  text = text.lower()\n",
        "  if 'hello' in text:\n",
        "    return \"Hi there! How you doing\"\n",
        "  if \"how are you\" in text:\n",
        "    return \"I'm too sexy and good nowadays\"\n",
        "  return \"OOPS! I didn't understand your query. Godfather : pxfzb is working on me. I'm under development phase\""
      ]
    },
    {
      "cell_type": "code",
      "execution_count": null,
      "metadata": {
        "id": "LamlutsFw0hU"
      },
      "outputs": [],
      "source": [
        "async def handle_message(update: Update, context: ContextTypes.DEFAULT_TYPE):\n",
        "  chat_type: str = update.message.chat.type\n",
        "  text: str = update.message.text\n",
        "  print(f'userId: ({update.message.chat.id}), in {chat_type}')\n",
        "  #Reply on group chat only if the bot is tagged\n",
        "  if chat_type == 'GROUP':\n",
        "    if BOT_USER_NAME in text:\n",
        "      next_text = text.replace(BOT_USER_NAME, '').strip()\n",
        "      response = handle_response(next_text)\n",
        "    else:\n",
        "      return\n",
        "  else:\n",
        "    response = handle_response(text)\n",
        "  print(\"Bot response: \", response, end=\"/n\")\n",
        "  await update.message.reply_text(response)"
      ]
    },
    {
      "cell_type": "code",
      "execution_count": null,
      "metadata": {
        "id": "GRsCWG9Hy_i_"
      },
      "outputs": [],
      "source": [
        "async def error(update: Update, context: ContextTypes.DEFAULT_TYPE):\n",
        "  print(f'update : {update} caused the following error: {context.error}')"
      ]
    },
    {
      "cell_type": "code",
      "execution_count": null,
      "metadata": {
        "colab": {
          "background_save": true,
          "base_uri": "https://localhost:8080/"
        },
        "id": "UC6qfClKzSpe",
        "outputId": "1abd0753-d158-40b5-8bb0-18209b4a4d94"
      },
      "outputs": [
        {
          "metadata": {
            "tags": null
          },
          "name": "stdout",
          "output_type": "stream",
          "text": [
            "starting bot...\n",
            "polling bot...\n",
            "userId: (-4113660981), in group\n",
            "Bot response:  Hi there! How you doing/n"
          ]
        }
      ],
      "source": [
        "async def main():\n",
        "  app = ApplicationBuilder().token(TOKEN).build()\n",
        "  print('starting bot...')\n",
        "  #Commands\n",
        "  app.add_handler(CommandHandler('start', start_command))\n",
        "  app.add_handler(CommandHandler('help', help_command))\n",
        "  app.add_handler(CommandHandler('custom', custom_command))\n",
        "  #Messages\n",
        "  app.add_handler(MessageHandler(filters.TEXT, handle_message))\n",
        "  #Error\n",
        "  app.add_error_handler(error)\n",
        "  #Add polling interval\n",
        "  print('polling bot...')\n",
        "  await app.run_polling(poll_interval=3)\n",
        "\n",
        "\n",
        "asyncio.run(main())"
      ]
    },
    {
      "cell_type": "code",
      "execution_count": null,
      "metadata": {
        "id": "TL4DLMqu0pww"
      },
      "outputs": [],
      "source": [
        "import nest_asyncio\n",
        "nest_asyncio.apply()\n"
      ]
    }
  ],
  "metadata": {
    "colab": {
      "provenance": []
    },
    "kernelspec": {
      "display_name": "Python 3",
      "name": "python3"
    },
    "language_info": {
      "name": "python"
    }
  },
  "nbformat": 4,
  "nbformat_minor": 0
}